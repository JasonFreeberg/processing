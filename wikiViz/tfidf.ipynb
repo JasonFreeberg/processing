{
 "cells": [
  {
   "cell_type": "code",
   "execution_count": 1,
   "metadata": {
    "collapsed": true
   },
   "outputs": [],
   "source": [
    "import csv\n",
    "import sys\n",
    "from sklearn.feature_extraction.text import TfidfVectorizer\n",
    "from sklearn.decomposition import PCA\n",
    "import pandas as pd"
   ]
  },
  {
   "cell_type": "code",
   "execution_count": null,
   "metadata": {
    "collapsed": false
   },
   "outputs": [],
   "source": [
    "# The text fields are HUGE, max out the buffer\n",
    "csv.field_size_limit(sys.maxsize)\n",
    "\n",
    "file = open(\"hope.csv\", \"r\")\n",
    "csv_ = csv.reader(file, delimiter=\",\")\n",
    "data = pd.DataFrame({\n",
    "                      \"title\": [],\n",
    "                      \"text\": []\n",
    "                    })\n",
    "\n",
    "#test = 50\n",
    "indx = 0\n",
    "for row in csv_:\n",
    "    if indx != 0:\n",
    "        new = pd.DataFrame({\n",
    "                \"title\": [row[9]],\n",
    "                \"text\": [row[7]]\n",
    "              })\n",
    "\n",
    "        data = data.append(new)\n",
    "#    if indx >= test:\n",
    "#        break\n",
    "    indx += 1\n",
    "\n",
    "\n",
    "vectorizer = TfidfVectorizer(stop_words=\"english\", lowercase=True)\n",
    "pca = PCA(n_components=8)\n",
    "\n",
    "# Vectorize the text\n",
    "tfidf = vectorizer.fit_transform(data.text).toarray()\n",
    "tfidfDF = pd.DataFrame(tfidf)\n",
    "\n",
    "# Join data\n",
    "print(\"Nrows in data:\", data.shape[0])\n",
    "print(\"Nrows in tfidf:\", tfidf.shape[0])\n",
    "data.reset_index(drop=True, inplace=True)\n",
    "tfidfDF.reset_index(drop=True, inplace=True)\n",
    "newData = pd.concat([data, tfidfDF], axis=1)\n",
    "\n",
    "# Perform PCA\n",
    "preds = [name for name in list(newData) if type(name) is not str]\n",
    "prComp = pd.DataFrame(pca.fit_transform(X = newData.ix[:, preds]))\n",
    "newestData = pd.concat([newData.ix[:, \"title\"], prComp], axis=1)\n",
    "\n",
    "# Write to file and close connection to old file\n",
    "newestData.to_csv(\"wikiPCA.csv\", sep=\",\", index=False)\n",
    "file.close()"
   ]
  },
  {
   "cell_type": "code",
   "execution_count": null,
   "metadata": {
    "collapsed": true
   },
   "outputs": [],
   "source": []
  }
 ],
 "metadata": {
  "kernelspec": {
   "display_name": "Python 3",
   "language": "python",
   "name": "python3"
  },
  "language_info": {
   "codemirror_mode": {
    "name": "ipython",
    "version": 3
   },
   "file_extension": ".py",
   "mimetype": "text/x-python",
   "name": "python",
   "nbconvert_exporter": "python",
   "pygments_lexer": "ipython3",
   "version": "3.5.2"
  }
 },
 "nbformat": 4,
 "nbformat_minor": 0
}
